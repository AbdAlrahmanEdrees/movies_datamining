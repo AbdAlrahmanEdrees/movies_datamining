{
 "cells": [
  {
   "cell_type": "code",
   "execution_count": 2,
   "id": "f1f87add",
   "metadata": {},
   "outputs": [],
   "source": [
    "import numpy as np\n",
    "import pandas as pd\n",
    "import matplotlib.pyplot as plt"
   ]
  },
  {
   "cell_type": "code",
   "execution_count": 3,
   "id": "b57abf9d",
   "metadata": {},
   "outputs": [],
   "source": [
    "# Both datasets contain data on mostly the same movies.\n",
    "df1=pd.read_csv('./dataset/tmdb_5000_movies.csv')\n",
    "# Cleaner dataset\n",
    "#   'genres' feature in this dataset is parsed into JASON like fields.\n",
    "# 'revenue' feature in this dataset is world wide revenue.\n",
    "df2=pd.read_csv('./dataset/movie_metadata.csv')\n",
    "# Clean features:\n",
    "#   title_year: already parsed\n",
    "#   genres, country: already string-form like, easy to encode\n",
    "#   language: the main spoken language\n",
    "# Useful actors and director features\n",
    "#   actors,directors' name\n",
    "#   facebook_likes: Even if the actor/director doesn’t have a personal account (like DiCaprio),\n",
    "#   the number reflects their popularity across Facebook pages, fan tags, or search interest.\n",
    "# 'gross' feature in this dataset is U.S. domestic gross, not world wide revenue.\n",
    "\n",
    "actor_tier=pd.read_csv('./dataset/actor_tiers.csv')\n",
    "director_tier=pd.read_csv('./dataset/director_tiers.csv')\n",
    "# I asked chat gpt to put actors & directors in 'movie_metadata.csv' into three classes: 1, 2 and 3"
   ]
  },
  {
   "cell_type": "markdown",
   "id": "1049544d",
   "metadata": {},
   "source": [
    "Data Exploration"
   ]
  },
  {
   "cell_type": "code",
   "execution_count": 4,
   "id": "a27b374f",
   "metadata": {},
   "outputs": [
    {
     "name": "stdout",
     "output_type": "stream",
     "text": [
      "(4803, 20)\n",
      "(5043, 28)\n"
     ]
    }
   ],
   "source": [
    "print(df1.shape)\n",
    "print(df2.shape)"
   ]
  },
  {
   "cell_type": "code",
   "execution_count": 5,
   "id": "dc42d534",
   "metadata": {},
   "outputs": [
    {
     "name": "stdout",
     "output_type": "stream",
     "text": [
      "(6255, 2)\n",
      "(2398, 2)\n"
     ]
    }
   ],
   "source": [
    "print(actor_tier.shape)\n",
    "print(director_tier.shape)"
   ]
  },
  {
   "cell_type": "code",
   "execution_count": 6,
   "id": "fdf77113",
   "metadata": {},
   "outputs": [
    {
     "data": {
      "text/plain": [
       "Index(['budget', 'genres', 'homepage', 'id', 'keywords', 'original_language',\n",
       "       'original_title', 'overview', 'popularity', 'production_companies',\n",
       "       'production_countries', 'release_date', 'revenue', 'runtime',\n",
       "       'spoken_languages', 'status', 'tagline', 'title', 'vote_average',\n",
       "       'vote_count'],\n",
       "      dtype='object')"
      ]
     },
     "execution_count": 6,
     "metadata": {},
     "output_type": "execute_result"
    }
   ],
   "source": [
    "df1.columns"
   ]
  },
  {
   "cell_type": "code",
   "execution_count": 7,
   "id": "ee8b27eb",
   "metadata": {},
   "outputs": [
    {
     "data": {
      "text/plain": [
       "Index(['color', 'director_name', 'num_critic_for_reviews', 'duration',\n",
       "       'director_facebook_likes', 'actor_3_facebook_likes', 'actor_2_name',\n",
       "       'actor_1_facebook_likes', 'gross', 'genres', 'actor_1_name',\n",
       "       'movie_title', 'num_voted_users', 'cast_total_facebook_likes',\n",
       "       'actor_3_name', 'facenumber_in_poster', 'plot_keywords',\n",
       "       'movie_imdb_link', 'num_user_for_reviews', 'language', 'country',\n",
       "       'content_rating', 'budget', 'title_year', 'actor_2_facebook_likes',\n",
       "       'imdb_score', 'aspect_ratio', 'movie_facebook_likes'],\n",
       "      dtype='object')"
      ]
     },
     "execution_count": 7,
     "metadata": {},
     "output_type": "execute_result"
    }
   ],
   "source": [
    "df2.columns"
   ]
  },
  {
   "cell_type": "code",
   "execution_count": 8,
   "id": "fca52b12",
   "metadata": {},
   "outputs": [
    {
     "data": {
      "text/html": [
       "<div>\n",
       "<style scoped>\n",
       "    .dataframe tbody tr th:only-of-type {\n",
       "        vertical-align: middle;\n",
       "    }\n",
       "\n",
       "    .dataframe tbody tr th {\n",
       "        vertical-align: top;\n",
       "    }\n",
       "\n",
       "    .dataframe thead th {\n",
       "        text-align: right;\n",
       "    }\n",
       "</style>\n",
       "<table border=\"1\" class=\"dataframe\">\n",
       "  <thead>\n",
       "    <tr style=\"text-align: right;\">\n",
       "      <th></th>\n",
       "      <th>budget</th>\n",
       "      <th>genres</th>\n",
       "      <th>homepage</th>\n",
       "      <th>id</th>\n",
       "      <th>keywords</th>\n",
       "      <th>original_language</th>\n",
       "      <th>original_title</th>\n",
       "      <th>overview</th>\n",
       "      <th>popularity</th>\n",
       "      <th>production_companies</th>\n",
       "      <th>production_countries</th>\n",
       "      <th>release_date</th>\n",
       "      <th>revenue</th>\n",
       "      <th>runtime</th>\n",
       "      <th>spoken_languages</th>\n",
       "      <th>status</th>\n",
       "      <th>tagline</th>\n",
       "      <th>title</th>\n",
       "      <th>vote_average</th>\n",
       "      <th>vote_count</th>\n",
       "    </tr>\n",
       "  </thead>\n",
       "  <tbody>\n",
       "    <tr>\n",
       "      <th>0</th>\n",
       "      <td>237000000</td>\n",
       "      <td>[{\"id\": 28, \"name\": \"Action\"}, {\"id\": 12, \"nam...</td>\n",
       "      <td>http://www.avatarmovie.com/</td>\n",
       "      <td>19995</td>\n",
       "      <td>[{\"id\": 1463, \"name\": \"culture clash\"}, {\"id\":...</td>\n",
       "      <td>en</td>\n",
       "      <td>Avatar</td>\n",
       "      <td>In the 22nd century, a paraplegic Marine is di...</td>\n",
       "      <td>150.437577</td>\n",
       "      <td>[{\"name\": \"Ingenious Film Partners\", \"id\": 289...</td>\n",
       "      <td>[{\"iso_3166_1\": \"US\", \"name\": \"United States o...</td>\n",
       "      <td>2009-12-10</td>\n",
       "      <td>2787965087</td>\n",
       "      <td>162.0</td>\n",
       "      <td>[{\"iso_639_1\": \"en\", \"name\": \"English\"}, {\"iso...</td>\n",
       "      <td>Released</td>\n",
       "      <td>Enter the World of Pandora.</td>\n",
       "      <td>Avatar</td>\n",
       "      <td>7.2</td>\n",
       "      <td>11800</td>\n",
       "    </tr>\n",
       "  </tbody>\n",
       "</table>\n",
       "</div>"
      ],
      "text/plain": [
       "      budget                                             genres  \\\n",
       "0  237000000  [{\"id\": 28, \"name\": \"Action\"}, {\"id\": 12, \"nam...   \n",
       "\n",
       "                      homepage     id  \\\n",
       "0  http://www.avatarmovie.com/  19995   \n",
       "\n",
       "                                            keywords original_language  \\\n",
       "0  [{\"id\": 1463, \"name\": \"culture clash\"}, {\"id\":...                en   \n",
       "\n",
       "  original_title                                           overview  \\\n",
       "0         Avatar  In the 22nd century, a paraplegic Marine is di...   \n",
       "\n",
       "   popularity                               production_companies  \\\n",
       "0  150.437577  [{\"name\": \"Ingenious Film Partners\", \"id\": 289...   \n",
       "\n",
       "                                production_countries release_date     revenue  \\\n",
       "0  [{\"iso_3166_1\": \"US\", \"name\": \"United States o...   2009-12-10  2787965087   \n",
       "\n",
       "   runtime                                   spoken_languages    status  \\\n",
       "0    162.0  [{\"iso_639_1\": \"en\", \"name\": \"English\"}, {\"iso...  Released   \n",
       "\n",
       "                       tagline   title  vote_average  vote_count  \n",
       "0  Enter the World of Pandora.  Avatar           7.2       11800  "
      ]
     },
     "execution_count": 8,
     "metadata": {},
     "output_type": "execute_result"
    }
   ],
   "source": [
    "df1.head(1)"
   ]
  },
  {
   "cell_type": "code",
   "execution_count": 9,
   "id": "b91947ab",
   "metadata": {},
   "outputs": [
    {
     "data": {
      "text/html": [
       "<div>\n",
       "<style scoped>\n",
       "    .dataframe tbody tr th:only-of-type {\n",
       "        vertical-align: middle;\n",
       "    }\n",
       "\n",
       "    .dataframe tbody tr th {\n",
       "        vertical-align: top;\n",
       "    }\n",
       "\n",
       "    .dataframe thead th {\n",
       "        text-align: right;\n",
       "    }\n",
       "</style>\n",
       "<table border=\"1\" class=\"dataframe\">\n",
       "  <thead>\n",
       "    <tr style=\"text-align: right;\">\n",
       "      <th></th>\n",
       "      <th>color</th>\n",
       "      <th>director_name</th>\n",
       "      <th>num_critic_for_reviews</th>\n",
       "      <th>duration</th>\n",
       "      <th>director_facebook_likes</th>\n",
       "      <th>actor_3_facebook_likes</th>\n",
       "      <th>actor_2_name</th>\n",
       "      <th>actor_1_facebook_likes</th>\n",
       "      <th>gross</th>\n",
       "      <th>genres</th>\n",
       "      <th>...</th>\n",
       "      <th>num_user_for_reviews</th>\n",
       "      <th>language</th>\n",
       "      <th>country</th>\n",
       "      <th>content_rating</th>\n",
       "      <th>budget</th>\n",
       "      <th>title_year</th>\n",
       "      <th>actor_2_facebook_likes</th>\n",
       "      <th>imdb_score</th>\n",
       "      <th>aspect_ratio</th>\n",
       "      <th>movie_facebook_likes</th>\n",
       "    </tr>\n",
       "  </thead>\n",
       "  <tbody>\n",
       "    <tr>\n",
       "      <th>0</th>\n",
       "      <td>Color</td>\n",
       "      <td>James Cameron</td>\n",
       "      <td>723.0</td>\n",
       "      <td>178.0</td>\n",
       "      <td>0.0</td>\n",
       "      <td>855.0</td>\n",
       "      <td>Joel David Moore</td>\n",
       "      <td>1000.0</td>\n",
       "      <td>760505847.0</td>\n",
       "      <td>Action|Adventure|Fantasy|Sci-Fi</td>\n",
       "      <td>...</td>\n",
       "      <td>3054.0</td>\n",
       "      <td>English</td>\n",
       "      <td>USA</td>\n",
       "      <td>PG-13</td>\n",
       "      <td>237000000.0</td>\n",
       "      <td>2009.0</td>\n",
       "      <td>936.0</td>\n",
       "      <td>7.9</td>\n",
       "      <td>1.78</td>\n",
       "      <td>33000</td>\n",
       "    </tr>\n",
       "  </tbody>\n",
       "</table>\n",
       "<p>1 rows × 28 columns</p>\n",
       "</div>"
      ],
      "text/plain": [
       "   color  director_name  num_critic_for_reviews  duration  \\\n",
       "0  Color  James Cameron                   723.0     178.0   \n",
       "\n",
       "   director_facebook_likes  actor_3_facebook_likes      actor_2_name  \\\n",
       "0                      0.0                   855.0  Joel David Moore   \n",
       "\n",
       "   actor_1_facebook_likes        gross                           genres  ...  \\\n",
       "0                  1000.0  760505847.0  Action|Adventure|Fantasy|Sci-Fi  ...   \n",
       "\n",
       "  num_user_for_reviews language  country  content_rating       budget  \\\n",
       "0               3054.0  English      USA           PG-13  237000000.0   \n",
       "\n",
       "   title_year actor_2_facebook_likes imdb_score  aspect_ratio  \\\n",
       "0      2009.0                  936.0        7.9          1.78   \n",
       "\n",
       "  movie_facebook_likes  \n",
       "0                33000  \n",
       "\n",
       "[1 rows x 28 columns]"
      ]
     },
     "execution_count": 9,
     "metadata": {},
     "output_type": "execute_result"
    }
   ],
   "source": [
    "df2.head(1)"
   ]
  },
  {
   "cell_type": "code",
   "execution_count": 10,
   "id": "aa6f0958",
   "metadata": {},
   "outputs": [
    {
     "data": {
      "text/html": [
       "<div>\n",
       "<style scoped>\n",
       "    .dataframe tbody tr th:only-of-type {\n",
       "        vertical-align: middle;\n",
       "    }\n",
       "\n",
       "    .dataframe tbody tr th {\n",
       "        vertical-align: top;\n",
       "    }\n",
       "\n",
       "    .dataframe thead th {\n",
       "        text-align: right;\n",
       "    }\n",
       "</style>\n",
       "<table border=\"1\" class=\"dataframe\">\n",
       "  <thead>\n",
       "    <tr style=\"text-align: right;\">\n",
       "      <th></th>\n",
       "      <th>actor_name</th>\n",
       "      <th>tier</th>\n",
       "    </tr>\n",
       "  </thead>\n",
       "  <tbody>\n",
       "    <tr>\n",
       "      <th>0</th>\n",
       "      <td>Robert De Niro</td>\n",
       "      <td>1</td>\n",
       "    </tr>\n",
       "  </tbody>\n",
       "</table>\n",
       "</div>"
      ],
      "text/plain": [
       "       actor_name  tier\n",
       "0  Robert De Niro     1"
      ]
     },
     "execution_count": 10,
     "metadata": {},
     "output_type": "execute_result"
    }
   ],
   "source": [
    "actor_tier.head(1)"
   ]
  },
  {
   "cell_type": "code",
   "execution_count": 11,
   "id": "36c7f0fd",
   "metadata": {},
   "outputs": [
    {
     "data": {
      "text/html": [
       "<div>\n",
       "<style scoped>\n",
       "    .dataframe tbody tr th:only-of-type {\n",
       "        vertical-align: middle;\n",
       "    }\n",
       "\n",
       "    .dataframe tbody tr th {\n",
       "        vertical-align: top;\n",
       "    }\n",
       "\n",
       "    .dataframe thead th {\n",
       "        text-align: right;\n",
       "    }\n",
       "</style>\n",
       "<table border=\"1\" class=\"dataframe\">\n",
       "  <thead>\n",
       "    <tr style=\"text-align: right;\">\n",
       "      <th></th>\n",
       "      <th>director_name</th>\n",
       "      <th>tier</th>\n",
       "    </tr>\n",
       "  </thead>\n",
       "  <tbody>\n",
       "    <tr>\n",
       "      <th>0</th>\n",
       "      <td>Steven Spielberg</td>\n",
       "      <td>1</td>\n",
       "    </tr>\n",
       "    <tr>\n",
       "      <th>1</th>\n",
       "      <td>Woody Allen</td>\n",
       "      <td>1</td>\n",
       "    </tr>\n",
       "  </tbody>\n",
       "</table>\n",
       "</div>"
      ],
      "text/plain": [
       "      director_name  tier\n",
       "0  Steven Spielberg     1\n",
       "1       Woody Allen     1"
      ]
     },
     "execution_count": 11,
     "metadata": {},
     "output_type": "execute_result"
    }
   ],
   "source": [
    "director_tier.head(2)"
   ]
  },
  {
   "cell_type": "markdown",
   "id": "ee1b78c2",
   "metadata": {},
   "source": [
    "Pre-processing and Visualization"
   ]
  },
  {
   "cell_type": "code",
   "execution_count": 12,
   "id": "a9d6fdc9",
   "metadata": {},
   "outputs": [],
   "source": [
    "# We will keep the Numerical features, and the features that requires Low text-processing\n",
    "# and drop the features that doesn't serve our purpose, or the text-heavy features that requires NLP\n",
    "# We dropped features like (imdb-score) because we want to predict success of movies that are yet not released\n",
    "# We dropped df2's 'budget' and kept df1's budget\n",
    "# We dropped df1's 'title' and kept 'original_title' \n",
    "# facebook_likes values in df2 don't indicate actor/director real popularity\n",
    "df1_deleted_features=['original_language','vote_count','vote_average','popularity','keywords','homepage','title','tagline','id','overview','production_countries',\n",
    "                      'status','release_date','spoken_languages','production_companies','genres']\n",
    "\n",
    "#keeping productino companies & popularity\n",
    "# df1_deleted_features=['original_language','vote_count','vote_average','keywords','homepage','title','tagline','id','overview','production_countries',\n",
    "#                       'status','release_date','spoken_languages','genres']\n",
    "df2_deleted_features=['actor_3_facebook_likes','director_facebook_likes','color','num_critic_for_reviews','gross','num_voted_users',\n",
    "                      'cast_total_facebook_likes','facenumber_in_poster','plot_keywords','movie_imdb_link','num_user_for_reviews','budget',\n",
    "                      'imdb_score','aspect_ratio','movie_facebook_likes','duration','actor_2_facebook_likes','actor_1_facebook_likes']\n",
    "\n",
    "\n",
    "df1.drop(columns=df1_deleted_features,inplace=True)\n",
    "df2.drop(columns=df2_deleted_features,inplace=True)\n",
    "\n",
    "df1.rename(columns={'original_title':'title'},inplace=True)\n",
    "df2.rename(columns={'movie_title':'title'},inplace=True)\n",
    "df2.rename(columns={'title_year':'year'},inplace=True)\n",
    "\n",
    "#df2's titles are followed by NBSP (non-breaking space) character \\xa0\n",
    "df2['title'] = df2['title'].str.replace('\\xa0', '')\n",
    "\n",
    "\n",
    "df1 = df1.drop(df1[df1['title'].duplicated()].index)\n",
    "df2 = df2.drop(df2[df2['title'].duplicated()].index)\n",
    "\n",
    "#merging the two datasets\n",
    "df=pd.merge(df1,df2,on='title')\n",
    "\n",
    "#by the way, merging the datasets cleaned some of the outliers"
   ]
  },
  {
   "cell_type": "code",
   "execution_count": 13,
   "id": "f32ea8cb",
   "metadata": {},
   "outputs": [
    {
     "data": {
      "text/plain": [
       "(4386, 13)"
      ]
     },
     "execution_count": 13,
     "metadata": {},
     "output_type": "execute_result"
    }
   ],
   "source": [
    "df.shape"
   ]
  },
  {
   "cell_type": "code",
   "execution_count": 14,
   "id": "9f241593",
   "metadata": {},
   "outputs": [
    {
     "data": {
      "text/html": [
       "<div>\n",
       "<style scoped>\n",
       "    .dataframe tbody tr th:only-of-type {\n",
       "        vertical-align: middle;\n",
       "    }\n",
       "\n",
       "    .dataframe tbody tr th {\n",
       "        vertical-align: top;\n",
       "    }\n",
       "\n",
       "    .dataframe thead th {\n",
       "        text-align: right;\n",
       "    }\n",
       "</style>\n",
       "<table border=\"1\" class=\"dataframe\">\n",
       "  <thead>\n",
       "    <tr style=\"text-align: right;\">\n",
       "      <th></th>\n",
       "      <th>budget</th>\n",
       "      <th>title</th>\n",
       "      <th>revenue</th>\n",
       "      <th>runtime</th>\n",
       "      <th>director_name</th>\n",
       "      <th>actor_2_name</th>\n",
       "      <th>genres</th>\n",
       "      <th>actor_1_name</th>\n",
       "      <th>actor_3_name</th>\n",
       "      <th>language</th>\n",
       "      <th>country</th>\n",
       "      <th>content_rating</th>\n",
       "      <th>year</th>\n",
       "    </tr>\n",
       "  </thead>\n",
       "  <tbody>\n",
       "    <tr>\n",
       "      <th>0</th>\n",
       "      <td>237000000</td>\n",
       "      <td>Avatar</td>\n",
       "      <td>2787965087</td>\n",
       "      <td>162.0</td>\n",
       "      <td>James Cameron</td>\n",
       "      <td>Joel David Moore</td>\n",
       "      <td>Action|Adventure|Fantasy|Sci-Fi</td>\n",
       "      <td>CCH Pounder</td>\n",
       "      <td>Wes Studi</td>\n",
       "      <td>English</td>\n",
       "      <td>USA</td>\n",
       "      <td>PG-13</td>\n",
       "      <td>2009.0</td>\n",
       "    </tr>\n",
       "  </tbody>\n",
       "</table>\n",
       "</div>"
      ],
      "text/plain": [
       "      budget   title     revenue  runtime  director_name      actor_2_name  \\\n",
       "0  237000000  Avatar  2787965087    162.0  James Cameron  Joel David Moore   \n",
       "\n",
       "                            genres actor_1_name actor_3_name language country  \\\n",
       "0  Action|Adventure|Fantasy|Sci-Fi  CCH Pounder    Wes Studi  English     USA   \n",
       "\n",
       "  content_rating    year  \n",
       "0          PG-13  2009.0  "
      ]
     },
     "execution_count": 14,
     "metadata": {},
     "output_type": "execute_result"
    }
   ],
   "source": [
    "df.head(1)"
   ]
  },
  {
   "cell_type": "code",
   "execution_count": 15,
   "id": "5fa18c84",
   "metadata": {},
   "outputs": [
    {
     "data": {
      "text/plain": [
       "<function matplotlib.pyplot.show(close=None, block=None)>"
      ]
     },
     "execution_count": 15,
     "metadata": {},
     "output_type": "execute_result"
    },
    {
     "data": {
      "image/png": "[encoded data removed]",
      "text/plain": [
       "<Figure size 640x480 with 1 Axes>"
      ]
     },
     "metadata": {},
     "output_type": "display_data"
    }
   ],
   "source": [
    "plt.scatter(df['year'],df['budget'])\n",
    "plt.title=\"year/budget\"\n",
    "plt.show"
   ]
  },
  {
   "cell_type": "code",
   "execution_count": 16,
   "id": "63aa3e96",
   "metadata": {},
   "outputs": [
    {
     "data": {
      "text/plain": [
       "(893, 12)"
      ]
     },
     "execution_count": 16,
     "metadata": {},
     "output_type": "execute_result"
    }
   ],
   "source": [
    "# We will drop movies released before 2012, because they existed in a very different ecosystem\n",
    "# - Less influence from social media\n",
    "# - no Netflex/streaming platforms\n",
    "# - Less global distribution\n",
    "df.drop(df.loc[df['year']<2012].index,inplace=True)\n",
    "df.drop('year',axis=1,inplace=True)\n",
    "df.shape"
   ]
  },
  {
   "cell_type": "code",
   "execution_count": 17,
   "id": "a6e5334e",
   "metadata": {},
   "outputs": [
    {
     "data": {
      "text/plain": [
       "language\n",
       "English       866\n",
       "Hindi           6\n",
       "French          5\n",
       "Hebrew          3\n",
       "Spanish         3\n",
       "Telugu          1\n",
       "Russian         1\n",
       "Portuguese      1\n",
       "Japanese        1\n",
       "Polish          1\n",
       "Arabic          1\n",
       "Urdu            1\n",
       "Swahili         1\n",
       "Name: count, dtype: int64"
      ]
     },
     "execution_count": 17,
     "metadata": {},
     "output_type": "execute_result"
    }
   ],
   "source": [
    "df['language'].value_counts()"
   ]
  },
  {
   "cell_type": "code",
   "execution_count": 18,
   "id": "6bb2b920",
   "metadata": {},
   "outputs": [
    {
     "data": {
      "text/plain": [
       "(701, 10)"
      ]
     },
     "execution_count": 18,
     "metadata": {},
     "output_type": "execute_result"
    }
   ],
   "source": [
    "# we will keep only 'American' 'English' movies:\n",
    "df.drop(df.loc[df['language']!='English'].index,inplace=True)\n",
    "df.drop(df.loc[df['country']!='USA'].index,inplace=True)\n",
    "df.drop('language',axis=1,inplace=True)\n",
    "df.drop('country',axis=1,inplace=True)\n",
    "df.shape"
   ]
  },
  {
   "cell_type": "code",
   "execution_count": 19,
   "id": "2914d6af",
   "metadata": {},
   "outputs": [
    {
     "data": {
      "text/plain": [
       "<Axes: >"
      ]
     },
     "execution_count": 19,
     "metadata": {},
     "output_type": "execute_result"
    },
    {
     "data": {
      "image/png": "[encoded data removed]",
      "text/plain": [
       "<Figure size 640x480 with 1 Axes>"
      ]
     },
     "metadata": {},
     "output_type": "display_data"
    }
   ],
   "source": [
    "df['runtime'].hist()"
   ]
  },
  {
   "cell_type": "code",
   "execution_count": 20,
   "id": "bdbca936",
   "metadata": {},
   "outputs": [],
   "source": [
    "# Dropping movies with runtime < 75 (to keep only mainstream films)\n",
    "indexes=df['runtime'][(df['runtime']<75)].index\n",
    "df.drop(indexes,inplace=True)"
   ]
  },
  {
   "cell_type": "code",
   "execution_count": 21,
   "id": "f1fb526c",
   "metadata": {},
   "outputs": [
    {
     "data": {
      "text/plain": [
       "<Axes: >"
      ]
     },
     "execution_count": 21,
     "metadata": {},
     "output_type": "execute_result"
    },
    {
     "data": {
      "image/png": "[encoded data removed]",
      "text/plain": [
       "<Figure size 640x480 with 1 Axes>"
      ]
     },
     "metadata": {},
     "output_type": "display_data"
    }
   ],
   "source": [
    "# Flooring and Capping runtime outliers\n",
    "Q1=df['runtime'].quantile(0.25)\n",
    "Q3=df['runtime'].quantile(0.75)\n",
    "IQR=Q3-Q1\n",
    "th=1.5\n",
    "lower_wh=Q1-(th*IQR)\n",
    "upper_wh=Q3+(th*IQR)\n",
    "df['runtime']=np.where(df['runtime']>upper_wh,upper_wh,np.where(df['runtime']<lower_wh,lower_wh,df['runtime']))\n",
    "df['runtime'].hist()"
   ]
  },
  {
   "cell_type": "code",
   "execution_count": 22,
   "id": "0d8a69f5",
   "metadata": {},
   "outputs": [
    {
     "data": {
      "text/plain": [
       "budget\n",
       "0         121\n",
       "500000      4\n",
       "1           3\n",
       "50000       3\n",
       "700000      2\n",
       "750000      2\n",
       "250         1\n",
       "60000       1\n",
       "75000       1\n",
       "100000      1\n",
       "200         1\n",
       "225000      1\n",
       "350000      1\n",
       "250000      1\n",
       "300000      1\n",
       "15          1\n",
       "650         1\n",
       "850000      1\n",
       "913000      1\n",
       "950000      1\n",
       "22000       1\n",
       "Name: count, dtype: int64"
      ]
     },
     "execution_count": 22,
     "metadata": {},
     "output_type": "execute_result"
    }
   ],
   "source": [
    "df.loc[df['budget']<1000000,'budget'].value_counts()"
   ]
  },
  {
   "cell_type": "code",
   "execution_count": 23,
   "id": "d70a1a56",
   "metadata": {},
   "outputs": [
    {
     "data": {
      "text/html": [
       "<div>\n",
       "<style scoped>\n",
       "    .dataframe tbody tr th:only-of-type {\n",
       "        vertical-align: middle;\n",
       "    }\n",
       "\n",
       "    .dataframe tbody tr th {\n",
       "        vertical-align: top;\n",
       "    }\n",
       "\n",
       "    .dataframe thead th {\n",
       "        text-align: right;\n",
       "    }\n",
       "</style>\n",
       "<table border=\"1\" class=\"dataframe\">\n",
       "  <thead>\n",
       "    <tr style=\"text-align: right;\">\n",
       "      <th></th>\n",
       "      <th>budget</th>\n",
       "      <th>title</th>\n",
       "      <th>revenue</th>\n",
       "      <th>runtime</th>\n",
       "      <th>director_name</th>\n",
       "      <th>actor_2_name</th>\n",
       "      <th>genres</th>\n",
       "      <th>actor_1_name</th>\n",
       "      <th>actor_3_name</th>\n",
       "      <th>content_rating</th>\n",
       "    </tr>\n",
       "  </thead>\n",
       "  <tbody>\n",
       "    <tr>\n",
       "      <th>312</th>\n",
       "      <td>0</td>\n",
       "      <td>The Campaign</td>\n",
       "      <td>104907746</td>\n",
       "      <td>85.0</td>\n",
       "      <td>Jay Roach</td>\n",
       "      <td>Thomas Middleditch</td>\n",
       "      <td>Comedy</td>\n",
       "      <td>Will Ferrell</td>\n",
       "      <td>Katherine LaNasa</td>\n",
       "      <td>R</td>\n",
       "    </tr>\n",
       "    <tr>\n",
       "      <th>349</th>\n",
       "      <td>0</td>\n",
       "      <td>Alvin and the Chipmunks: The Road Chip</td>\n",
       "      <td>233755553</td>\n",
       "      <td>92.0</td>\n",
       "      <td>Walt Becker</td>\n",
       "      <td>Joshua Mikel</td>\n",
       "      <td>Adventure|Animation|Comedy|Family|Fantasy|Music</td>\n",
       "      <td>Bella Thorne</td>\n",
       "      <td>Jesse McCartney</td>\n",
       "      <td>PG</td>\n",
       "    </tr>\n",
       "  </tbody>\n",
       "</table>\n",
       "</div>"
      ],
      "text/plain": [
       "     budget                                   title    revenue  runtime  \\\n",
       "312       0                            The Campaign  104907746     85.0   \n",
       "349       0  Alvin and the Chipmunks: The Road Chip  233755553     92.0   \n",
       "\n",
       "    director_name        actor_2_name  \\\n",
       "312     Jay Roach  Thomas Middleditch   \n",
       "349   Walt Becker        Joshua Mikel   \n",
       "\n",
       "                                              genres  actor_1_name  \\\n",
       "312                                           Comedy  Will Ferrell   \n",
       "349  Adventure|Animation|Comedy|Family|Fantasy|Music  Bella Thorne   \n",
       "\n",
       "         actor_3_name content_rating  \n",
       "312  Katherine LaNasa              R  \n",
       "349   Jesse McCartney             PG  "
      ]
     },
     "execution_count": 23,
     "metadata": {},
     "output_type": "execute_result"
    }
   ],
   "source": [
    "df.loc[df['budget']==0].head(2)"
   ]
  },
  {
   "cell_type": "code",
   "execution_count": 24,
   "id": "fb6d649b",
   "metadata": {},
   "outputs": [
    {
     "data": {
      "text/html": [
       "<div>\n",
       "<style scoped>\n",
       "    .dataframe tbody tr th:only-of-type {\n",
       "        vertical-align: middle;\n",
       "    }\n",
       "\n",
       "    .dataframe tbody tr th {\n",
       "        vertical-align: top;\n",
       "    }\n",
       "\n",
       "    .dataframe thead th {\n",
       "        text-align: right;\n",
       "    }\n",
       "</style>\n",
       "<table border=\"1\" class=\"dataframe\">\n",
       "  <thead>\n",
       "    <tr style=\"text-align: right;\">\n",
       "      <th></th>\n",
       "      <th>budget</th>\n",
       "      <th>title</th>\n",
       "      <th>revenue</th>\n",
       "      <th>runtime</th>\n",
       "      <th>director_name</th>\n",
       "      <th>actor_2_name</th>\n",
       "      <th>genres</th>\n",
       "      <th>actor_1_name</th>\n",
       "      <th>actor_3_name</th>\n",
       "      <th>content_rating</th>\n",
       "    </tr>\n",
       "  </thead>\n",
       "  <tbody>\n",
       "    <tr>\n",
       "      <th>3903</th>\n",
       "      <td>1</td>\n",
       "      <td>Me You and Five Bucks</td>\n",
       "      <td>0</td>\n",
       "      <td>90.0</td>\n",
       "      <td>Jaime Zevallos</td>\n",
       "      <td>Jaime Zevallos</td>\n",
       "      <td>Comedy|Drama|Romance</td>\n",
       "      <td>Angela Sarafyan</td>\n",
       "      <td>Michael Elian</td>\n",
       "      <td>NaN</td>\n",
       "    </tr>\n",
       "    <tr>\n",
       "      <th>3939</th>\n",
       "      <td>1</td>\n",
       "      <td>The Algerian</td>\n",
       "      <td>0</td>\n",
       "      <td>99.0</td>\n",
       "      <td>Giovanni Zelko</td>\n",
       "      <td>Harry Lennix</td>\n",
       "      <td>Action|Romance|Thriller</td>\n",
       "      <td>Zuhair Haddad</td>\n",
       "      <td>Ben Youcef</td>\n",
       "      <td>NaN</td>\n",
       "    </tr>\n",
       "    <tr>\n",
       "      <th>4056</th>\n",
       "      <td>1</td>\n",
       "      <td>Fear Clinic</td>\n",
       "      <td>0</td>\n",
       "      <td>95.0</td>\n",
       "      <td>Robert Hall</td>\n",
       "      <td>Kevin Gage</td>\n",
       "      <td>Horror</td>\n",
       "      <td>Angelina Armani</td>\n",
       "      <td>Fiona Dourif</td>\n",
       "      <td>R</td>\n",
       "    </tr>\n",
       "  </tbody>\n",
       "</table>\n",
       "</div>"
      ],
      "text/plain": [
       "      budget                  title  revenue  runtime   director_name  \\\n",
       "3903       1  Me You and Five Bucks        0     90.0  Jaime Zevallos   \n",
       "3939       1           The Algerian        0     99.0  Giovanni Zelko   \n",
       "4056       1            Fear Clinic        0     95.0     Robert Hall   \n",
       "\n",
       "        actor_2_name                   genres     actor_1_name   actor_3_name  \\\n",
       "3903  Jaime Zevallos     Comedy|Drama|Romance  Angela Sarafyan  Michael Elian   \n",
       "3939    Harry Lennix  Action|Romance|Thriller    Zuhair Haddad     Ben Youcef   \n",
       "4056      Kevin Gage                   Horror  Angelina Armani   Fiona Dourif   \n",
       "\n",
       "     content_rating  \n",
       "3903            NaN  \n",
       "3939            NaN  \n",
       "4056              R  "
      ]
     },
     "execution_count": 24,
     "metadata": {},
     "output_type": "execute_result"
    }
   ],
   "source": [
    "df.loc[df['budget']==1].head()"
   ]
  },
  {
   "cell_type": "code",
   "execution_count": 25,
   "id": "34e233dd",
   "metadata": {},
   "outputs": [
    {
     "name": "stdout",
     "output_type": "stream",
     "text": [
      "budget\n",
      "0    121\n",
      "1      3\n",
      "Name: count, dtype: int64\n",
      "budget\n",
      "1.0    3\n",
      "Name: count, dtype: int64\n"
     ]
    },
    {
     "data": {
      "text/plain": [
       "100000.0"
      ]
     },
     "execution_count": 25,
     "metadata": {},
     "output_type": "execute_result"
    }
   ],
   "source": [
    "# Filling missing values with the mean\n",
    "print(df['budget'][(df['budget']<10)].value_counts())\n",
    "# budget_mean=df['budget'].mean()\n",
    "df['budget'].replace(0,df['budget'].mean(),inplace=True)\n",
    "# df['budget'].replace(1,budget_mean,inplace=True)\n",
    "print(df['budget'][(df['budget']<10)].value_counts())\n",
    "df.drop(df.loc[df['budget']<100000].index,inplace=True)\n",
    "# df.loc[df['budget']<1000000,'budget'].value_counts()\n",
    "df['budget'].min()"
   ]
  },
  {
   "cell_type": "code",
   "execution_count": 26,
   "id": "0d6a9f4a",
   "metadata": {},
   "outputs": [
    {
     "data": {
      "text/plain": [
       "<Axes: >"
      ]
     },
     "execution_count": 26,
     "metadata": {},
     "output_type": "execute_result"
    },
    {
     "data": {
      "image/png": "[encoded data removed]",
      "text/plain": [
       "<Figure size 640x480 with 1 Axes>"
      ]
     },
     "metadata": {},
     "output_type": "display_data"
    }
   ],
   "source": [
    "df['budget'].hist()"
   ]
  },
  {
   "cell_type": "code",
   "execution_count": 27,
   "id": "fd2886db",
   "metadata": {},
   "outputs": [
    {
     "data": {
      "text/plain": [
       "revenue\n",
       "0         165\n",
       "73706       1\n",
       "66351       1\n",
       "32251       1\n",
       "187112      1\n",
       "3330        1\n",
       "187674      1\n",
       "336472      1\n",
       "343341      1\n",
       "316472      1\n",
       "258384      1\n",
       "319285      1\n",
       "56825       1\n",
       "111300      1\n",
       "Name: count, dtype: int64"
      ]
     },
     "execution_count": 27,
     "metadata": {},
     "output_type": "execute_result"
    }
   ],
   "source": [
    "df.loc[df['revenue']<500000,'revenue'].value_counts()"
   ]
  },
  {
   "cell_type": "code",
   "execution_count": 28,
   "id": "8550c316",
   "metadata": {},
   "outputs": [
    {
     "name": "stdout",
     "output_type": "stream",
     "text": [
      "revenue\n",
      "0    165\n",
      "Name: count, dtype: int64\n",
      "Series([], Name: count, dtype: int64)\n"
     ]
    },
    {
     "data": {
      "text/plain": [
       "3330.0"
      ]
     },
     "execution_count": 28,
     "metadata": {},
     "output_type": "execute_result"
    }
   ],
   "source": [
    "# Filling missing values with the mean\n",
    "print(df['revenue'][(df['revenue']<10)].value_counts())\n",
    "df['revenue'].replace(0,df['revenue'].mean(),inplace=True)\n",
    "print(df['revenue'][(df['revenue']<10)].value_counts())\n",
    "# df.drop(df.loc[df['revenue']<500000].index,inplace=True)\n",
    "df['revenue'].min()"
   ]
  },
  {
   "cell_type": "code",
   "execution_count": 29,
   "id": "8fd928c6",
   "metadata": {},
   "outputs": [
    {
     "data": {
      "text/plain": [
       "successful\n",
       "1    565\n",
       "0    102\n",
       "Name: count, dtype: int64"
      ]
     },
     "execution_count": 29,
     "metadata": {},
     "output_type": "execute_result"
    }
   ],
   "source": [
    "df['successful'] = ((df['revenue'] - df['budget']) >= 0).astype(int)\n",
    "df['successful'].value_counts()"
   ]
  },
  {
   "cell_type": "code",
   "execution_count": 30,
   "id": "e55f6278",
   "metadata": {},
   "outputs": [],
   "source": [
    "# import ast  # safer than eval for converting string to list/dict\n",
    "\n",
    "# def extract_production_company(json_string):\n",
    "#     try:\n",
    "#         companies = ast.literal_eval(json_string)\n",
    "#         if isinstance(companies, list) and len(companies) > 0:\n",
    "#             return companies[0]['name']\n",
    "#     except (ValueError, SyntaxError, KeyError, TypeError):\n",
    "#         return None\n",
    "\n",
    "# df['main_production_company'] = df['production_companies'].apply(extract_production_company)\n",
    "\n",
    "# company_counts = df['main_production_company'].value_counts()\n",
    "\n",
    "# x = df[df['main_production_company'].isin(company_counts[company_counts == 1].index)]\n",
    "\n",
    "# #x.shape\n",
    "\n",
    "# print(x['main_production_company'].value_counts())\n",
    "# df.drop('production_companies',axis=1,inplace=True)\n"
   ]
  },
  {
   "cell_type": "code",
   "execution_count": 31,
   "id": "1069daca",
   "metadata": {},
   "outputs": [
    {
     "data": {
      "text/plain": [
       "100000.0"
      ]
     },
     "execution_count": 31,
     "metadata": {},
     "output_type": "execute_result"
    }
   ],
   "source": [
    "df['budget'].min()"
   ]
  },
  {
   "cell_type": "code",
   "execution_count": 32,
   "id": "e027be43",
   "metadata": {},
   "outputs": [
    {
     "data": {
      "text/plain": [
       "<Axes: >"
      ]
     },
     "execution_count": 32,
     "metadata": {},
     "output_type": "execute_result"
    },
    {
     "data": {
      "image/png": "[encoded data removed]",
      "text/plain": [
       "<Figure size 640x480 with 1 Axes>"
      ]
     },
     "metadata": {},
     "output_type": "display_data"
    }
   ],
   "source": [
    "df['budget'].hist()"
   ]
  },
  {
   "cell_type": "code",
   "execution_count": 33,
   "id": "862dda58",
   "metadata": {},
   "outputs": [
    {
     "name": "stdout",
     "output_type": "stream",
     "text": [
      "78\n"
     ]
    },
    {
     "data": {
      "text/plain": [
       "<Axes: >"
      ]
     },
     "execution_count": 33,
     "metadata": {},
     "output_type": "execute_result"
    },
    {
     "data": {
      "image/png": "[encoded data removed]",
      "text/plain": [
       "<Figure size 640x480 with 1 Axes>"
      ]
     },
     "metadata": {},
     "output_type": "display_data"
    }
   ],
   "source": [
    "# Trimming budget outliers\n",
    "# all of them are movies with high budget that will most probably succeed\n",
    "# by dropping them we decrease bias.\n",
    "Q1=df['budget'].quantile(0.25)\n",
    "Q3=df['budget'].quantile(0.75)\n",
    "IQR=Q3-Q1\n",
    "th=1.5\n",
    "lower_wh=Q1-(th*IQR)\n",
    "upper_wh=Q3+(th*IQR)\n",
    "indexes=df['budget'][(df['budget']>upper_wh)|(df['budget']<lower_wh)].index\n",
    "df.drop(indexes,inplace=True)\n",
    "print(len(indexes))\n",
    "\n",
    "\n",
    "\n",
    "# # Flooring and Capping budget outliers\n",
    "# Q1=df['budget'].quantile(0.25)\n",
    "# Q3=df['budget'].quantile(0.75)\n",
    "# IQR=Q3-Q1\n",
    "# th=1.5\n",
    "# lower_wh=Q1-(th*IQR)\n",
    "# upper_wh=Q3+(th*IQR)\n",
    "# df['budget']=np.where(df['budget']>upper_wh,upper_wh,np.where(df['budget']<lower_wh,lower_wh,df['budget']))\n",
    "# print(lower_wh)\n",
    "df['budget'].hist()"
   ]
  },
  {
   "cell_type": "code",
   "execution_count": 34,
   "id": "01bbeb33",
   "metadata": {},
   "outputs": [
    {
     "data": {
      "text/plain": [
       "<Axes: >"
      ]
     },
     "execution_count": 34,
     "metadata": {},
     "output_type": "execute_result"
    },
    {
     "data": {
      "image/png": "[encoded data removed]",
      "text/plain": [
       "<Figure size 640x480 with 1 Axes>"
      ]
     },
     "metadata": {},
     "output_type": "display_data"
    }
   ],
   "source": [
    "# Flooring and Capping revenue outliers\n",
    "Q1=df['revenue'].quantile(0.25)\n",
    "Q3=df['revenue'].quantile(0.75)\n",
    "IQR=Q3-Q1\n",
    "th=1.5\n",
    "lower_wh=Q1-(th*IQR)\n",
    "upper_wh=Q3+(th*IQR)\n",
    "df['revenue']=np.where(df['revenue']>upper_wh,upper_wh,np.where(df['revenue']<lower_wh,lower_wh,df['revenue']))\n",
    "df['revenue'].hist()"
   ]
  },
  {
   "cell_type": "code",
   "execution_count": 35,
   "id": "3982d966",
   "metadata": {},
   "outputs": [
    {
     "data": {
      "text/plain": [
       "0"
      ]
     },
     "execution_count": 35,
     "metadata": {},
     "output_type": "execute_result"
    }
   ],
   "source": [
    "# there is no missing values in 'genres'\n",
    "df['genres'].isnull().sum()"
   ]
  },
  {
   "cell_type": "code",
   "execution_count": 36,
   "id": "0fdc8fda",
   "metadata": {},
   "outputs": [
    {
     "data": {
      "text/plain": [
       "169    Adventure\n",
       "197    Adventure\n",
       "209    Adventure\n",
       "215       Action\n",
       "217       Action\n",
       "Name: main_genre, dtype: object"
      ]
     },
     "execution_count": 36,
     "metadata": {},
     "output_type": "execute_result"
    }
   ],
   "source": [
    "# Encoding genres and also treating some of its outliers:\n",
    "\n",
    "\n",
    "# by taking only the MAIN genre where there are multiple    \n",
    "    \n",
    "df['main_genre'] = df['genres'].str.split('|').str[0]\n",
    "\n",
    "\n",
    "df.drop('genres',axis=1,inplace=True)\n",
    "df['main_genre'].head()  \n"
   ]
  },
  {
   "cell_type": "code",
   "execution_count": 37,
   "id": "5841defa",
   "metadata": {},
   "outputs": [
    {
     "data": {
      "text/plain": [
       "main_genre\n",
       "Comedy         155\n",
       "Action         134\n",
       "Drama          106\n",
       "Adventure       44\n",
       "Horror          41\n",
       "Crime           33\n",
       "Biography       31\n",
       "Documentary     13\n",
       "Fantasy          7\n",
       "Thriller         7\n",
       "Animation        6\n",
       "Family           6\n",
       "Mystery          3\n",
       "Sci-Fi           2\n",
       "Western          1\n",
       "Name: count, dtype: int64"
      ]
     },
     "execution_count": 37,
     "metadata": {},
     "output_type": "execute_result"
    }
   ],
   "source": [
    "df['main_genre'].value_counts()"
   ]
  },
  {
   "cell_type": "code",
   "execution_count": 38,
   "id": "1c838c85",
   "metadata": {},
   "outputs": [
    {
     "data": {
      "text/plain": [
       "main_genre\n",
       "Comedy       155\n",
       "Action       134\n",
       "Drama        106\n",
       "Unpopular     45\n",
       "Adventure     44\n",
       "Horror        41\n",
       "Crime         33\n",
       "Biography     31\n",
       "Name: count, dtype: int64"
      ]
     },
     "execution_count": 38,
     "metadata": {},
     "output_type": "execute_result"
    }
   ],
   "source": [
    "# the unpopular genres are:\n",
    "rare_genres=['Documentary','Fantasy','Thriller','Animation','Family','Mystery','Sci-Fi','Western']\n",
    "df['main_genre']=df['main_genre'].replace(rare_genres,'Unpopular')\n",
    "df['main_genre'].value_counts()"
   ]
  },
  {
   "cell_type": "code",
   "execution_count": 39,
   "id": "0794d056",
   "metadata": {},
   "outputs": [
    {
     "data": {
      "text/plain": [
       "<Axes: ylabel='count'>"
      ]
     },
     "execution_count": 39,
     "metadata": {},
     "output_type": "execute_result"
    },
    {
     "data": {
      "image/png": "[encoded data removed]",
      "text/plain": [
       "<Figure size 640x480 with 1 Axes>"
      ]
     },
     "metadata": {},
     "output_type": "display_data"
    }
   ],
   "source": [
    "df['main_genre'].value_counts().plot.pie()"
   ]
  },
  {
   "cell_type": "code",
   "execution_count": 40,
   "id": "e56c770f",
   "metadata": {},
   "outputs": [
    {
     "name": "stdout",
     "output_type": "stream",
     "text": [
      "{'Action': 0, 'Biography': 1, 'Comedy': 2, 'Unpopular': 3, 'Horror': 4, 'Crime': 5, 'Drama': 6, 'Adventure': 7}\n"
     ]
    }
   ],
   "source": [
    "# Encoding genres:\n",
    "\n",
    "# Using a set to store only unique genres\n",
    "genres = set()\n",
    "\n",
    "for i in range(df.shape[0]):\n",
    "    genres.add(df.iloc[i]['main_genre'])  \n",
    "\n",
    "\n",
    "\n",
    "genres = pd.Series(list(genres))\n",
    "\n",
    "# Create a dictionary to map genres to unique IDs\n",
    "genres_ids = {genres[i]: i for i in range(len(genres))}\n",
    "print(genres_ids)"
   ]
  },
  {
   "cell_type": "code",
   "execution_count": 41,
   "id": "a1562e1d",
   "metadata": {},
   "outputs": [
    {
     "data": {
      "text/plain": [
       "169    7\n",
       "197    7\n",
       "209    7\n",
       "215    0\n",
       "217    0\n",
       "Name: main_genre, dtype: int64"
      ]
     },
     "execution_count": 41,
     "metadata": {},
     "output_type": "execute_result"
    }
   ],
   "source": [
    "def genre_id(x):\n",
    "    return genres_ids[x]\n",
    "\n",
    "    \n",
    "    \n",
    "df['main_genre']=df['main_genre'].apply(genre_id)\n",
    "df['main_genre'].head()"
   ]
  },
  {
   "cell_type": "code",
   "execution_count": 42,
   "id": "4138a207",
   "metadata": {},
   "outputs": [
    {
     "data": {
      "text/plain": [
       "<Axes: >"
      ]
     },
     "execution_count": 42,
     "metadata": {},
     "output_type": "execute_result"
    },
    {
     "data": {
      "image/png": "[encoded data removed]",
      "text/plain": [
       "<Figure size 640x480 with 1 Axes>"
      ]
     },
     "metadata": {},
     "output_type": "display_data"
    }
   ],
   "source": [
    "df['main_genre'].value_counts().plot.box()"
   ]
  },
  {
   "cell_type": "code",
   "execution_count": 43,
   "id": "677493d3",
   "metadata": {},
   "outputs": [
    {
     "data": {
      "text/plain": [
       "content_rating\n",
       "R            269\n",
       "PG-13        187\n",
       "PG            63\n",
       "Not Rated     15\n",
       "G              3\n",
       "TV-14          2\n",
       "Unrated        2\n",
       "Name: count, dtype: int64"
      ]
     },
     "execution_count": 43,
     "metadata": {},
     "output_type": "execute_result"
    }
   ],
   "source": [
    "df['content_rating'].value_counts()"
   ]
  },
  {
   "cell_type": "code",
   "execution_count": 44,
   "id": "d1d82d35",
   "metadata": {},
   "outputs": [
    {
     "data": {
      "text/plain": [
       "content_rating\n",
       "R          269\n",
       "PG-13      187\n",
       "PG          63\n",
       "Unrated     17\n",
       "G            3\n",
       "TV-14        2\n",
       "Name: count, dtype: int64"
      ]
     },
     "execution_count": 44,
     "metadata": {},
     "output_type": "execute_result"
    }
   ],
   "source": [
    "df['content_rating'] = df['content_rating'].replace('Not Rated', 'Unrated')\n",
    "df['content_rating'].value_counts()"
   ]
  },
  {
   "cell_type": "code",
   "execution_count": 45,
   "id": "966d16c7",
   "metadata": {},
   "outputs": [
    {
     "data": {
      "text/plain": [
       "content_rating\n",
       "R        269\n",
       "PG-13    206\n",
       "PG        66\n",
       "Name: count, dtype: int64"
      ]
     },
     "execution_count": 45,
     "metadata": {},
     "output_type": "execute_result"
    }
   ],
   "source": [
    "# content-rating outliers Treatement:\n",
    "\n",
    "# we will replace 'Unrated' with the median content-rating which is PG-13\n",
    "df['content_rating'] = df['content_rating'].replace('Unrated', 'PG-13')\n",
    "\n",
    "# and replace 'G' (general, all ages admitted) with PG (parental guidance)\n",
    "df['content_rating'] = df['content_rating'].replace('G', 'PG')\n",
    "\n",
    "# replace TV-14 with PG-13\n",
    "df['content_rating'] = df['content_rating'].replace('TV-14', 'PG-13')\n",
    "df['content_rating'].value_counts()\n"
   ]
  },
  {
   "cell_type": "code",
   "execution_count": 46,
   "id": "511a906c",
   "metadata": {},
   "outputs": [
    {
     "data": {
      "text/plain": [
       "48"
      ]
     },
     "execution_count": 46,
     "metadata": {},
     "output_type": "execute_result"
    }
   ],
   "source": [
    "#content_rating missing values:\n",
    "df['content_rating'].isnull().sum()"
   ]
  },
  {
   "cell_type": "code",
   "execution_count": 47,
   "id": "02339a0a",
   "metadata": {},
   "outputs": [
    {
     "data": {
      "text/plain": [
       "0"
      ]
     },
     "execution_count": 47,
     "metadata": {},
     "output_type": "execute_result"
    }
   ],
   "source": [
    "# We can replace content-rating missing values again with the median content_rating PG-13\n",
    "df['content_rating'] = df['content_rating'].fillna('PG-13')\n",
    "df['content_rating'].isnull().sum()"
   ]
  },
  {
   "cell_type": "code",
   "execution_count": 48,
   "id": "692453c5",
   "metadata": {},
   "outputs": [
    {
     "data": {
      "text/plain": [
       "<Axes: ylabel='count'>"
      ]
     },
     "execution_count": 48,
     "metadata": {},
     "output_type": "execute_result"
    },
    {
     "data": {
      "image/png": "[encoded data removed]",
      "text/plain": [
       "<Figure size 640x480 with 1 Axes>"
      ]
     },
     "metadata": {},
     "output_type": "display_data"
    }
   ],
   "source": [
    "df['content_rating'].value_counts().plot.pie()"
   ]
  },
  {
   "cell_type": "code",
   "execution_count": 49,
   "id": "aa5863d9",
   "metadata": {},
   "outputs": [
    {
     "name": "stdout",
     "output_type": "stream",
     "text": [
      "{'PG-13': 0, 'PG': 1, 'R': 2}\n"
     ]
    }
   ],
   "source": [
    "# Encoding content_rating:\n",
    "\n",
    "# Using a set to store only unique ratings\n",
    "content_ratings = set()\n",
    "\n",
    "for i in range(df.shape[0]):\n",
    "    if pd.notna(df.iloc[i]['content_rating']):\n",
    "        content_ratings.add(df.iloc[i]['content_rating'])  \n",
    "\n",
    "\n",
    "\n",
    "content_ratings = pd.Series(list(content_ratings))\n",
    "\n",
    "# Create a dictionary to map content_ratings to unique IDs\n",
    "content_ratings_ids = {content_ratings[i]: i for i in range(len(content_ratings))}\n",
    "print(content_ratings_ids)"
   ]
  },
  {
   "cell_type": "code",
   "execution_count": 50,
   "id": "1a83ad04",
   "metadata": {},
   "outputs": [
    {
     "data": {
      "text/html": [
       "<div>\n",
       "<style scoped>\n",
       "    .dataframe tbody tr th:only-of-type {\n",
       "        vertical-align: middle;\n",
       "    }\n",
       "\n",
       "    .dataframe tbody tr th {\n",
       "        vertical-align: top;\n",
       "    }\n",
       "\n",
       "    .dataframe thead th {\n",
       "        text-align: right;\n",
       "    }\n",
       "</style>\n",
       "<table border=\"1\" class=\"dataframe\">\n",
       "  <thead>\n",
       "    <tr style=\"text-align: right;\">\n",
       "      <th></th>\n",
       "      <th>budget</th>\n",
       "      <th>title</th>\n",
       "      <th>revenue</th>\n",
       "      <th>runtime</th>\n",
       "      <th>director_name</th>\n",
       "      <th>actor_2_name</th>\n",
       "      <th>actor_1_name</th>\n",
       "      <th>actor_3_name</th>\n",
       "      <th>content_rating</th>\n",
       "      <th>successful</th>\n",
       "      <th>main_genre</th>\n",
       "    </tr>\n",
       "  </thead>\n",
       "  <tbody>\n",
       "    <tr>\n",
       "      <th>169</th>\n",
       "      <td>120000000.0</td>\n",
       "      <td>The Twilight Saga: Breaking Dawn - Part 2</td>\n",
       "      <td>2.858259e+08</td>\n",
       "      <td>115.0</td>\n",
       "      <td>Bill Condon</td>\n",
       "      <td>Kristen Stewart</td>\n",
       "      <td>Robert Pattinson</td>\n",
       "      <td>Taylor Lautner</td>\n",
       "      <td>0</td>\n",
       "      <td>1</td>\n",
       "      <td>7</td>\n",
       "    </tr>\n",
       "  </tbody>\n",
       "</table>\n",
       "</div>"
      ],
      "text/plain": [
       "          budget                                      title       revenue  \\\n",
       "169  120000000.0  The Twilight Saga: Breaking Dawn - Part 2  2.858259e+08   \n",
       "\n",
       "     runtime director_name     actor_2_name      actor_1_name    actor_3_name  \\\n",
       "169    115.0   Bill Condon  Kristen Stewart  Robert Pattinson  Taylor Lautner   \n",
       "\n",
       "     content_rating  successful  main_genre  \n",
       "169               0           1           7  "
      ]
     },
     "execution_count": 50,
     "metadata": {},
     "output_type": "execute_result"
    }
   ],
   "source": [
    "# replacing the content-rating with its id:\n",
    "\n",
    "def content_rating_replacer(x):\n",
    "    return content_ratings_ids[x]\n",
    "\n",
    "df['content_rating']=df['content_rating'].apply(content_rating_replacer)\n",
    "df.head(1)"
   ]
  },
  {
   "cell_type": "code",
   "execution_count": 51,
   "id": "662538f3",
   "metadata": {},
   "outputs": [
    {
     "data": {
      "text/html": [
       "<div>\n",
       "<style scoped>\n",
       "    .dataframe tbody tr th:only-of-type {\n",
       "        vertical-align: middle;\n",
       "    }\n",
       "\n",
       "    .dataframe tbody tr th {\n",
       "        vertical-align: top;\n",
       "    }\n",
       "\n",
       "    .dataframe thead th {\n",
       "        text-align: right;\n",
       "    }\n",
       "</style>\n",
       "<table border=\"1\" class=\"dataframe\">\n",
       "  <thead>\n",
       "    <tr style=\"text-align: right;\">\n",
       "      <th></th>\n",
       "      <th>budget</th>\n",
       "      <th>title</th>\n",
       "      <th>revenue</th>\n",
       "      <th>runtime</th>\n",
       "      <th>director_name</th>\n",
       "      <th>content_rating</th>\n",
       "      <th>successful</th>\n",
       "      <th>main_genre</th>\n",
       "      <th>actor_1_class</th>\n",
       "      <th>actor_2_class</th>\n",
       "      <th>actor_3_class</th>\n",
       "    </tr>\n",
       "  </thead>\n",
       "  <tbody>\n",
       "    <tr>\n",
       "      <th>169</th>\n",
       "      <td>120000000.0</td>\n",
       "      <td>The Twilight Saga: Breaking Dawn - Part 2</td>\n",
       "      <td>2.858259e+08</td>\n",
       "      <td>115.0</td>\n",
       "      <td>Bill Condon</td>\n",
       "      <td>0</td>\n",
       "      <td>1</td>\n",
       "      <td>7</td>\n",
       "      <td>1</td>\n",
       "      <td>1.0</td>\n",
       "      <td>1.0</td>\n",
       "    </tr>\n",
       "    <tr>\n",
       "      <th>197</th>\n",
       "      <td>103000000.0</td>\n",
       "      <td>Rio 2</td>\n",
       "      <td>2.858259e+08</td>\n",
       "      <td>102.0</td>\n",
       "      <td>Carlos Saldanha</td>\n",
       "      <td>1</td>\n",
       "      <td>1</td>\n",
       "      <td>7</td>\n",
       "      <td>1</td>\n",
       "      <td>3.0</td>\n",
       "      <td>3.0</td>\n",
       "    </tr>\n",
       "    <tr>\n",
       "      <th>209</th>\n",
       "      <td>120000000.0</td>\n",
       "      <td>Life of Pi</td>\n",
       "      <td>2.858259e+08</td>\n",
       "      <td>127.0</td>\n",
       "      <td>Ang Lee</td>\n",
       "      <td>1</td>\n",
       "      <td>1</td>\n",
       "      <td>7</td>\n",
       "      <td>2</td>\n",
       "      <td>1.0</td>\n",
       "      <td>2.0</td>\n",
       "    </tr>\n",
       "    <tr>\n",
       "      <th>215</th>\n",
       "      <td>115000000.0</td>\n",
       "      <td>Elysium</td>\n",
       "      <td>2.858259e+08</td>\n",
       "      <td>109.0</td>\n",
       "      <td>Neill Blomkamp</td>\n",
       "      <td>2</td>\n",
       "      <td>1</td>\n",
       "      <td>0</td>\n",
       "      <td>1</td>\n",
       "      <td>1.0</td>\n",
       "      <td>1.0</td>\n",
       "    </tr>\n",
       "    <tr>\n",
       "      <th>217</th>\n",
       "      <td>120000000.0</td>\n",
       "      <td>RoboCop</td>\n",
       "      <td>2.426890e+08</td>\n",
       "      <td>102.0</td>\n",
       "      <td>José Padilha</td>\n",
       "      <td>0</td>\n",
       "      <td>1</td>\n",
       "      <td>0</td>\n",
       "      <td>1</td>\n",
       "      <td>1.0</td>\n",
       "      <td>1.0</td>\n",
       "    </tr>\n",
       "  </tbody>\n",
       "</table>\n",
       "</div>"
      ],
      "text/plain": [
       "          budget                                      title       revenue  \\\n",
       "169  120000000.0  The Twilight Saga: Breaking Dawn - Part 2  2.858259e+08   \n",
       "197  103000000.0                                      Rio 2  2.858259e+08   \n",
       "209  120000000.0                                 Life of Pi  2.858259e+08   \n",
       "215  115000000.0                                    Elysium  2.858259e+08   \n",
       "217  120000000.0                                    RoboCop  2.426890e+08   \n",
       "\n",
       "     runtime    director_name  content_rating  successful  main_genre  \\\n",
       "169    115.0      Bill Condon               0           1           7   \n",
       "197    102.0  Carlos Saldanha               1           1           7   \n",
       "209    127.0          Ang Lee               1           1           7   \n",
       "215    109.0   Neill Blomkamp               2           1           0   \n",
       "217    102.0     José Padilha               0           1           0   \n",
       "\n",
       "     actor_1_class  actor_2_class  actor_3_class  \n",
       "169              1            1.0            1.0  \n",
       "197              1            3.0            3.0  \n",
       "209              2            1.0            2.0  \n",
       "215              1            1.0            1.0  \n",
       "217              1            1.0            1.0  "
      ]
     },
     "execution_count": 51,
     "metadata": {},
     "output_type": "execute_result"
    }
   ],
   "source": [
    "# replacing actor's name with his tier:\n",
    "\n",
    "actor_dict = dict(zip(actor_tier['actor_name'], actor_tier['tier']))\n",
    "df['actor_1_class'] = df['actor_1_name'].map(actor_dict)\n",
    "df['actor_2_class'] = df['actor_2_name'].map(actor_dict)\n",
    "df['actor_3_class'] = df['actor_3_name'].map(actor_dict)\n",
    "delete=['actor_1_name','actor_2_name','actor_3_name']\n",
    "df.drop(delete,axis=1,inplace=True)\n",
    "df.head()"
   ]
  },
  {
   "cell_type": "code",
   "execution_count": 52,
   "id": "d9b9efe7",
   "metadata": {},
   "outputs": [
    {
     "data": {
      "text/html": [
       "<div>\n",
       "<style scoped>\n",
       "    .dataframe tbody tr th:only-of-type {\n",
       "        vertical-align: middle;\n",
       "    }\n",
       "\n",
       "    .dataframe tbody tr th {\n",
       "        vertical-align: top;\n",
       "    }\n",
       "\n",
       "    .dataframe thead th {\n",
       "        text-align: right;\n",
       "    }\n",
       "</style>\n",
       "<table border=\"1\" class=\"dataframe\">\n",
       "  <thead>\n",
       "    <tr style=\"text-align: right;\">\n",
       "      <th></th>\n",
       "      <th>budget</th>\n",
       "      <th>title</th>\n",
       "      <th>revenue</th>\n",
       "      <th>runtime</th>\n",
       "      <th>content_rating</th>\n",
       "      <th>successful</th>\n",
       "      <th>main_genre</th>\n",
       "      <th>actor_1_class</th>\n",
       "      <th>actor_2_class</th>\n",
       "      <th>actor_3_class</th>\n",
       "      <th>director_class</th>\n",
       "    </tr>\n",
       "  </thead>\n",
       "  <tbody>\n",
       "    <tr>\n",
       "      <th>169</th>\n",
       "      <td>120000000.0</td>\n",
       "      <td>The Twilight Saga: Breaking Dawn - Part 2</td>\n",
       "      <td>2.858259e+08</td>\n",
       "      <td>115.0</td>\n",
       "      <td>0</td>\n",
       "      <td>1</td>\n",
       "      <td>7</td>\n",
       "      <td>1</td>\n",
       "      <td>1.0</td>\n",
       "      <td>1.0</td>\n",
       "      <td>1</td>\n",
       "    </tr>\n",
       "    <tr>\n",
       "      <th>197</th>\n",
       "      <td>103000000.0</td>\n",
       "      <td>Rio 2</td>\n",
       "      <td>2.858259e+08</td>\n",
       "      <td>102.0</td>\n",
       "      <td>1</td>\n",
       "      <td>1</td>\n",
       "      <td>7</td>\n",
       "      <td>1</td>\n",
       "      <td>3.0</td>\n",
       "      <td>3.0</td>\n",
       "      <td>1</td>\n",
       "    </tr>\n",
       "    <tr>\n",
       "      <th>209</th>\n",
       "      <td>120000000.0</td>\n",
       "      <td>Life of Pi</td>\n",
       "      <td>2.858259e+08</td>\n",
       "      <td>127.0</td>\n",
       "      <td>1</td>\n",
       "      <td>1</td>\n",
       "      <td>7</td>\n",
       "      <td>2</td>\n",
       "      <td>1.0</td>\n",
       "      <td>2.0</td>\n",
       "      <td>1</td>\n",
       "    </tr>\n",
       "    <tr>\n",
       "      <th>215</th>\n",
       "      <td>115000000.0</td>\n",
       "      <td>Elysium</td>\n",
       "      <td>2.858259e+08</td>\n",
       "      <td>109.0</td>\n",
       "      <td>2</td>\n",
       "      <td>1</td>\n",
       "      <td>0</td>\n",
       "      <td>1</td>\n",
       "      <td>1.0</td>\n",
       "      <td>1.0</td>\n",
       "      <td>1</td>\n",
       "    </tr>\n",
       "    <tr>\n",
       "      <th>217</th>\n",
       "      <td>120000000.0</td>\n",
       "      <td>RoboCop</td>\n",
       "      <td>2.426890e+08</td>\n",
       "      <td>102.0</td>\n",
       "      <td>0</td>\n",
       "      <td>1</td>\n",
       "      <td>0</td>\n",
       "      <td>1</td>\n",
       "      <td>1.0</td>\n",
       "      <td>1.0</td>\n",
       "      <td>1</td>\n",
       "    </tr>\n",
       "  </tbody>\n",
       "</table>\n",
       "</div>"
      ],
      "text/plain": [
       "          budget                                      title       revenue  \\\n",
       "169  120000000.0  The Twilight Saga: Breaking Dawn - Part 2  2.858259e+08   \n",
       "197  103000000.0                                      Rio 2  2.858259e+08   \n",
       "209  120000000.0                                 Life of Pi  2.858259e+08   \n",
       "215  115000000.0                                    Elysium  2.858259e+08   \n",
       "217  120000000.0                                    RoboCop  2.426890e+08   \n",
       "\n",
       "     runtime  content_rating  successful  main_genre  actor_1_class  \\\n",
       "169    115.0               0           1           7              1   \n",
       "197    102.0               1           1           7              1   \n",
       "209    127.0               1           1           7              2   \n",
       "215    109.0               2           1           0              1   \n",
       "217    102.0               0           1           0              1   \n",
       "\n",
       "     actor_2_class  actor_3_class  director_class  \n",
       "169            1.0            1.0               1  \n",
       "197            3.0            3.0               1  \n",
       "209            1.0            2.0               1  \n",
       "215            1.0            1.0               1  \n",
       "217            1.0            1.0               1  "
      ]
     },
     "execution_count": 52,
     "metadata": {},
     "output_type": "execute_result"
    }
   ],
   "source": [
    "# replacing director's name with his tier:\n",
    "\n",
    "actor_dict = dict(zip(director_tier['director_name'], director_tier['tier']))\n",
    "df['director_class'] = df['director_name'].map(actor_dict)\n",
    "df.drop('director_name',axis=1,inplace=True)\n",
    "df.head()\n"
   ]
  },
  {
   "cell_type": "code",
   "execution_count": 53,
   "id": "d3f7f115",
   "metadata": {},
   "outputs": [
    {
     "name": "stdout",
     "output_type": "stream",
     "text": [
      "68    1\n",
      "Name: tier, dtype: int64\n"
     ]
    }
   ],
   "source": [
    "x=director_tier.loc[director_tier['director_name']=='Christopher Nolan','tier'].index\n",
    "print(actor_tier.iloc[x]['tier'])"
   ]
  },
  {
   "cell_type": "code",
   "execution_count": 54,
   "id": "81e11a11",
   "metadata": {},
   "outputs": [
    {
     "name": "stdout",
     "output_type": "stream",
     "text": [
      "0\n",
      "2\n",
      "2\n",
      "0\n"
     ]
    }
   ],
   "source": [
    "print(df['actor_1_class'].isnull().sum())\n",
    "print(df['actor_2_class'].isnull().sum())\n",
    "print(df['actor_3_class'].isnull().sum())\n",
    "\n",
    "print(df['director_class'].isnull().sum())"
   ]
  },
  {
   "cell_type": "code",
   "execution_count": 55,
   "id": "f3c1c8b8",
   "metadata": {},
   "outputs": [],
   "source": [
    "# filling the missing values with the median value (2)\n",
    "df['actor_1_class'].fillna(2,inplace=True)\n",
    "df['actor_2_class'].fillna(2,inplace=True)\n",
    "df['actor_3_class'].fillna(2,inplace=True)"
   ]
  },
  {
   "cell_type": "code",
   "execution_count": 56,
   "id": "66af8a21",
   "metadata": {},
   "outputs": [
    {
     "data": {
      "text/html": [
       "<div>\n",
       "<style scoped>\n",
       "    .dataframe tbody tr th:only-of-type {\n",
       "        vertical-align: middle;\n",
       "    }\n",
       "\n",
       "    .dataframe tbody tr th {\n",
       "        vertical-align: top;\n",
       "    }\n",
       "\n",
       "    .dataframe thead th {\n",
       "        text-align: right;\n",
       "    }\n",
       "</style>\n",
       "<table border=\"1\" class=\"dataframe\">\n",
       "  <thead>\n",
       "    <tr style=\"text-align: right;\">\n",
       "      <th></th>\n",
       "      <th>budget</th>\n",
       "      <th>revenue</th>\n",
       "      <th>runtime</th>\n",
       "      <th>content_rating</th>\n",
       "      <th>successful</th>\n",
       "      <th>main_genre</th>\n",
       "      <th>actor_1_class</th>\n",
       "      <th>actor_2_class</th>\n",
       "      <th>actor_3_class</th>\n",
       "      <th>director_class</th>\n",
       "    </tr>\n",
       "  </thead>\n",
       "  <tbody>\n",
       "    <tr>\n",
       "      <th>169</th>\n",
       "      <td>120000000.0</td>\n",
       "      <td>2.858259e+08</td>\n",
       "      <td>115.0</td>\n",
       "      <td>0</td>\n",
       "      <td>1</td>\n",
       "      <td>7</td>\n",
       "      <td>1</td>\n",
       "      <td>1.0</td>\n",
       "      <td>1.0</td>\n",
       "      <td>1</td>\n",
       "    </tr>\n",
       "  </tbody>\n",
       "</table>\n",
       "</div>"
      ],
      "text/plain": [
       "          budget       revenue  runtime  content_rating  successful  \\\n",
       "169  120000000.0  2.858259e+08    115.0               0           1   \n",
       "\n",
       "     main_genre  actor_1_class  actor_2_class  actor_3_class  director_class  \n",
       "169           7              1            1.0            1.0               1  "
      ]
     },
     "execution_count": 56,
     "metadata": {},
     "output_type": "execute_result"
    }
   ],
   "source": [
    "# drop title column\n",
    "# heading to moduling\n",
    "df.drop('title',axis=1,inplace=True)\n",
    "df.head(1)"
   ]
  },
  {
   "cell_type": "code",
   "execution_count": 57,
   "id": "22ed9861",
   "metadata": {},
   "outputs": [
    {
     "name": "stdout",
     "output_type": "stream",
     "text": [
      "(589, 10)\n",
      "(982, 10)\n"
     ]
    }
   ],
   "source": [
    "# balancing successful/unsuccessful movies\n",
    "from sklearn.utils import resample\n",
    "\n",
    "df_majority = df[df.successful == 1]\n",
    "df_minority = df[df.successful == 0]\n",
    "\n",
    "df_minority_upsampled = resample(df_minority, replace=True, n_samples=len(df_majority), random_state=42)\n",
    "df_balanced = pd.concat([df_majority, df_minority_upsampled])\n",
    "print(df.shape)\n",
    "print(df_balanced.shape)"
   ]
  },
  {
   "cell_type": "code",
   "execution_count": 58,
   "id": "3d2e8f07",
   "metadata": {},
   "outputs": [
    {
     "data": {
      "text/plain": [
       "<Axes: ylabel='count'>"
      ]
     },
     "execution_count": 58,
     "metadata": {},
     "output_type": "execute_result"
    },
    {
     "data": {
      "image/png": "[encoded data removed]",
      "text/plain": [
       "<Figure size 640x480 with 1 Axes>"
      ]
     },
     "metadata": {},
     "output_type": "display_data"
    }
   ],
   "source": [
    "df_balanced['successful'].value_counts().plot.pie()"
   ]
  },
  {
   "cell_type": "code",
   "execution_count": 59,
   "id": "82c7b808",
   "metadata": {},
   "outputs": [
    {
     "data": {
      "text/html": [
       "<div>\n",
       "<style scoped>\n",
       "    .dataframe tbody tr th:only-of-type {\n",
       "        vertical-align: middle;\n",
       "    }\n",
       "\n",
       "    .dataframe tbody tr th {\n",
       "        vertical-align: top;\n",
       "    }\n",
       "\n",
       "    .dataframe thead th {\n",
       "        text-align: right;\n",
       "    }\n",
       "</style>\n",
       "<table border=\"1\" class=\"dataframe\">\n",
       "  <thead>\n",
       "    <tr style=\"text-align: right;\">\n",
       "      <th></th>\n",
       "      <th>budget</th>\n",
       "      <th>revenue</th>\n",
       "      <th>runtime</th>\n",
       "      <th>content_rating</th>\n",
       "      <th>successful</th>\n",
       "      <th>main_genre</th>\n",
       "      <th>actor_1_class</th>\n",
       "      <th>actor_2_class</th>\n",
       "      <th>actor_3_class</th>\n",
       "      <th>director_class</th>\n",
       "    </tr>\n",
       "  </thead>\n",
       "  <tbody>\n",
       "    <tr>\n",
       "      <th>169</th>\n",
       "      <td>120000000.0</td>\n",
       "      <td>2.858259e+08</td>\n",
       "      <td>115.0</td>\n",
       "      <td>0</td>\n",
       "      <td>1</td>\n",
       "      <td>7</td>\n",
       "      <td>1</td>\n",
       "      <td>1.0</td>\n",
       "      <td>1.0</td>\n",
       "      <td>1</td>\n",
       "    </tr>\n",
       "  </tbody>\n",
       "</table>\n",
       "</div>"
      ],
      "text/plain": [
       "          budget       revenue  runtime  content_rating  successful  \\\n",
       "169  120000000.0  2.858259e+08    115.0               0           1   \n",
       "\n",
       "     main_genre  actor_1_class  actor_2_class  actor_3_class  director_class  \n",
       "169           7              1            1.0            1.0               1  "
      ]
     },
     "execution_count": 59,
     "metadata": {},
     "output_type": "execute_result"
    }
   ],
   "source": [
    "df.head(1)"
   ]
  },
  {
   "cell_type": "code",
   "execution_count": 60,
   "id": "1e20f323",
   "metadata": {},
   "outputs": [],
   "source": [
    "# Rescaling the features so that they have a comparable scale\n",
    "# This prevents features like budget (millions) from overpowering smaller features like genre or tier values\n",
    "# from sklearn.preprocessing import MinMaxScaler\n",
    "# scaler=MinMaxScaler()\n",
    "# features=['budget','revenue','runtime','content_rating','successful','main_genre','actor_1_class','actor_2_class','actor_3_class','director_class']\n",
    "# df_scaled=df_balanced\n",
    "# df_scaled[features]=scaler.fit_transform(df_balanced[features])\n",
    "# df_scaled.head(100)"
   ]
  },
  {
   "cell_type": "markdown",
   "id": "273dae99",
   "metadata": {},
   "source": [
    "Modeling"
   ]
  },
  {
   "cell_type": "code",
   "execution_count": 61,
   "id": "e262140d",
   "metadata": {},
   "outputs": [
    {
     "name": "stdout",
     "output_type": "stream",
     "text": [
      "0.8949152542372881\n",
      "              precision    recall  f1-score   support\n",
      "\n",
      "           0       0.87      0.93      0.90       148\n",
      "           1       0.93      0.86      0.89       147\n",
      "\n",
      "    accuracy                           0.89       295\n",
      "   macro avg       0.90      0.89      0.89       295\n",
      "weighted avg       0.90      0.89      0.89       295\n",
      "\n"
     ]
    }
   ],
   "source": [
    "X=df_balanced.drop(['revenue','successful'],axis=1)\n",
    "y=df_balanced['successful']\n",
    "from sklearn.model_selection import train_test_split\n",
    "X_train,X_test, y_train, y_test=train_test_split(X,y,test_size=0.3,random_state=42)\n",
    "# from sklearn.neural_network import MLPClassifier\n",
    "# clf=MLPClassifier([50,100],max_iter=300)\n",
    "\n",
    "from sklearn.ensemble import RandomForestClassifier\n",
    "clf=RandomForestClassifier()\n",
    "clf.fit(X_train,y_train)\n",
    "y_pred=clf.predict(X_test)\n",
    "from sklearn.metrics import accuracy_score,classification_report\n",
    "classification_accuracy=accuracy_score(y_test,y_pred)\n",
    "classification_repo=classification_report(y_test,y_pred)\n",
    "print(classification_accuracy)\n",
    "print(classification_repo)"
   ]
  },
  {
   "cell_type": "markdown",
   "id": "0d5b9da5",
   "metadata": {},
   "source": [
    "The characteristics of last decade's failure movies"
   ]
  },
  {
   "cell_type": "code",
   "execution_count": 62,
   "id": "d1df3f34",
   "metadata": {},
   "outputs": [
    {
     "data": {
      "text/plain": [
       "(98, 10)"
      ]
     },
     "execution_count": 62,
     "metadata": {},
     "output_type": "execute_result"
    }
   ],
   "source": [
    "x=df.loc[df['successful']==0]\n",
    "x.head()\n",
    "x.shape"
   ]
  },
  {
   "cell_type": "code",
   "execution_count": 63,
   "id": "2f36d546",
   "metadata": {},
   "outputs": [
    {
     "data": {
      "image/png": "[encoded data removed]",
      "text/plain": [
       "<Figure size 800x1600 with 8 Axes>"
      ]
     },
     "metadata": {},
     "output_type": "display_data"
    }
   ],
   "source": [
    "\n",
    "fig, axes = plt.subplots(4, 2, figsize=(8, 16))\n",
    "\n",
    "# Histogram 1: Budget\n",
    "x['budget'].hist(ax=axes[0, 0])\n",
    "axes[0, 0].set_title('Budget')\n",
    "\n",
    "# Histogram 2: Runtime\n",
    "x['runtime'].hist(ax=axes[0, 1])\n",
    "axes[0, 1].set_title('Runtime')\n",
    "\n",
    "# Pie chart: Content Rating\n",
    "x['content_rating'].value_counts().plot.pie(ax=axes[1, 0], autopct='%1.1f%%')\n",
    "axes[1, 0].set_title('Content Ratings')\n",
    "axes[1, 0].set_ylabel('')  # Remove y-label from pie\n",
    "\n",
    "x['main_genre'].value_counts().plot.pie(ax=axes[1, 1], autopct='%1.1f%%')\n",
    "axes[1, 1].set_title('Main Genre')\n",
    "axes[1, 1].set_ylabel('')  # Remove y-label from pie\n",
    "\n",
    "x['actor_1_class'].value_counts().plot.pie(ax=axes[2, 0], autopct='%1.1f%%')\n",
    "axes[2, 0].set_title('Actor 1 Class')\n",
    "axes[2, 0].set_ylabel('')  # Remove y-label from pie\n",
    "\n",
    "\n",
    "x['actor_2_class'].value_counts().plot.pie(ax=axes[2, 1], autopct='%1.1f%%')\n",
    "axes[2, 1].set_title('Actor 2 Class')\n",
    "axes[2, 1].set_ylabel('')  # Remove y-label from pie\n",
    "\n",
    "\n",
    "x['actor_3_class'].value_counts().plot.pie(ax=axes[3, 0], autopct='%1.1f%%')\n",
    "axes[3, 0].set_title('Actor 3 Class')\n",
    "axes[3, 0].set_ylabel('')  # Remove y-label from pie\n",
    "\n",
    "x['director_class'].value_counts().plot.pie(ax=axes[3, 1], autopct='%1.1f%%')\n",
    "axes[3, 1].set_title('Director Class')\n",
    "axes[3, 1].set_ylabel('')  # Remove y-label from pie\n",
    "\n",
    "plt.tight_layout()\n",
    "plt.show()\n"
   ]
  },
  {
   "cell_type": "code",
   "execution_count": 64,
   "id": "d370118c",
   "metadata": {},
   "outputs": [
    {
     "data": {
      "text/html": [
       "<div>\n",
       "<style scoped>\n",
       "    .dataframe tbody tr th:only-of-type {\n",
       "        vertical-align: middle;\n",
       "    }\n",
       "\n",
       "    .dataframe tbody tr th {\n",
       "        vertical-align: top;\n",
       "    }\n",
       "\n",
       "    .dataframe thead th {\n",
       "        text-align: right;\n",
       "    }\n",
       "</style>\n",
       "<table border=\"1\" class=\"dataframe\">\n",
       "  <thead>\n",
       "    <tr style=\"text-align: right;\">\n",
       "      <th></th>\n",
       "      <th>budget</th>\n",
       "      <th>runtime</th>\n",
       "      <th>content_rating</th>\n",
       "      <th>main_genre</th>\n",
       "      <th>actor_1_class</th>\n",
       "      <th>actor_2_class</th>\n",
       "      <th>actor_3_class</th>\n",
       "      <th>director_class</th>\n",
       "    </tr>\n",
       "  </thead>\n",
       "  <tbody>\n",
       "    <tr>\n",
       "      <th>3012</th>\n",
       "      <td>9.000000e+06</td>\n",
       "      <td>106.0</td>\n",
       "      <td>0</td>\n",
       "      <td>0</td>\n",
       "      <td>3</td>\n",
       "      <td>2.0</td>\n",
       "      <td>2.0</td>\n",
       "      <td>1</td>\n",
       "    </tr>\n",
       "    <tr>\n",
       "      <th>1100</th>\n",
       "      <td>4.000000e+07</td>\n",
       "      <td>91.0</td>\n",
       "      <td>0</td>\n",
       "      <td>0</td>\n",
       "      <td>1</td>\n",
       "      <td>1.0</td>\n",
       "      <td>1.0</td>\n",
       "      <td>1</td>\n",
       "    </tr>\n",
       "    <tr>\n",
       "      <th>4271</th>\n",
       "      <td>2.250000e+05</td>\n",
       "      <td>86.0</td>\n",
       "      <td>0</td>\n",
       "      <td>3</td>\n",
       "      <td>2</td>\n",
       "      <td>2.0</td>\n",
       "      <td>2.0</td>\n",
       "      <td>2</td>\n",
       "    </tr>\n",
       "    <tr>\n",
       "      <th>603</th>\n",
       "      <td>8.000000e+07</td>\n",
       "      <td>114.0</td>\n",
       "      <td>0</td>\n",
       "      <td>0</td>\n",
       "      <td>2</td>\n",
       "      <td>1.0</td>\n",
       "      <td>1.0</td>\n",
       "      <td>1</td>\n",
       "    </tr>\n",
       "    <tr>\n",
       "      <th>4188</th>\n",
       "      <td>4.193598e+07</td>\n",
       "      <td>90.0</td>\n",
       "      <td>2</td>\n",
       "      <td>5</td>\n",
       "      <td>1</td>\n",
       "      <td>2.0</td>\n",
       "      <td>2.0</td>\n",
       "      <td>1</td>\n",
       "    </tr>\n",
       "  </tbody>\n",
       "</table>\n",
       "</div>"
      ],
      "text/plain": [
       "            budget  runtime  content_rating  main_genre  actor_1_class  \\\n",
       "3012  9.000000e+06    106.0               0           0              3   \n",
       "1100  4.000000e+07     91.0               0           0              1   \n",
       "4271  2.250000e+05     86.0               0           3              2   \n",
       "603   8.000000e+07    114.0               0           0              2   \n",
       "4188  4.193598e+07     90.0               2           5              1   \n",
       "\n",
       "      actor_2_class  actor_3_class  director_class  \n",
       "3012            2.0            2.0               1  \n",
       "1100            1.0            1.0               1  \n",
       "4271            2.0            2.0               2  \n",
       "603             1.0            1.0               1  \n",
       "4188            2.0            2.0               1  "
      ]
     },
     "execution_count": 64,
     "metadata": {},
     "output_type": "execute_result"
    }
   ],
   "source": [
    "indexes=[]\n",
    "for i in range(len(y_pred)):\n",
    "    if y_pred[i]==0:\n",
    "        indexes.append(i)\n",
    "        \n",
    "X_test.iloc[indexes].head()"
   ]
  },
  {
   "cell_type": "code",
   "execution_count": 65,
   "id": "25d8c919",
   "metadata": {},
   "outputs": [
    {
     "name": "stdout",
     "output_type": "stream",
     "text": [
      "[0, 1, 2, 5, 6, 8, 10, 11, 17, 21, 22, 24, 25, 27, 29, 30, 35, 37, 39, 40, 41, 42, 43, 44, 45, 46, 48, 52, 57, 60, 62, 68, 69, 70, 71, 75, 78, 79, 80, 83, 86, 87, 88, 89, 91, 92, 94, 95, 98, 99, 101, 103, 104, 105, 106, 107, 108, 109, 110, 111, 113, 114, 118, 119, 120, 121, 122, 125, 128, 129, 130, 131, 132, 133, 134, 139, 140, 145, 146, 150, 151, 152, 155, 156, 157, 159, 162, 164, 166, 168, 169, 175, 176, 177, 179, 180, 181, 184, 187, 188, 190, 191, 192, 193, 194, 195, 197, 200, 202, 203, 204, 207, 209, 210, 211, 212, 213, 215, 219, 221, 223, 225, 230, 231, 233, 235, 236, 237, 238, 239, 241, 244, 245, 246, 247, 248, 250, 252, 254, 255, 256, 258, 260, 263, 267, 270, 271, 275, 276, 277, 279, 282, 286, 287, 288, 290, 291, 293, 294]\n"
     ]
    }
   ],
   "source": [
    "print(indexes)"
   ]
  },
  {
   "cell_type": "code",
   "execution_count": 66,
   "id": "eb36701e",
   "metadata": {},
   "outputs": [
    {
     "data": {
      "text/plain": [
       "budget            25000000.0\n",
       "runtime                 98.0\n",
       "content_rating           2.0\n",
       "main_genre               0.0\n",
       "actor_1_class            1.0\n",
       "actor_2_class            1.0\n",
       "actor_3_class            1.0\n",
       "director_class           1.0\n",
       "Name: 1862, dtype: float64"
      ]
     },
     "execution_count": 66,
     "metadata": {},
     "output_type": "execute_result"
    }
   ],
   "source": [
    "X_test.iloc[25]"
   ]
  },
  {
   "cell_type": "markdown",
   "id": "6ada17fd",
   "metadata": {},
   "source": [
    "UI"
   ]
  },
  {
   "cell_type": "code",
   "execution_count": 67,
   "id": "bdb093b1",
   "metadata": {},
   "outputs": [
    {
     "name": "stderr",
     "output_type": "stream",
     "text": [
      "c:\\Python311\\Lib\\site-packages\\sklearn\\base.py:493: UserWarning: X does not have valid feature names, but RandomForestClassifier was fitted with feature names\n",
      "  warnings.warn(\n",
      "c:\\Python311\\Lib\\site-packages\\sklearn\\base.py:493: UserWarning: X does not have valid feature names, but RandomForestClassifier was fitted with feature names\n",
      "  warnings.warn(\n"
     ]
    }
   ],
   "source": [
    "import tkinter as tk\n",
    "from tkinter import ttk, messagebox\n",
    "\n",
    "# def load_models():\n",
    "#     return clf, lm\n",
    "\n",
    "# Load trained models\n",
    "classifier =clf\n",
    "# regressor=lm\n",
    "\n",
    "# Valid options\n",
    "tiers = [1,2,3]\n",
    "\n",
    "# UI setup\n",
    "root = tk.Tk()\n",
    "root.title(\"Movie Success Predictor\")\n",
    "root.geometry(\"400x600\")\n",
    "\n",
    "# Input variables\n",
    "budget_var = tk.IntVar()\n",
    "runtime_var = tk.IntVar()\n",
    "\n",
    "content_rating_var = tk.StringVar()\n",
    "genre_var = tk.StringVar()\n",
    "actor1_var = tk.IntVar()\n",
    "actor2_var = tk.IntVar()\n",
    "actor3_var = tk.IntVar()\n",
    "director_var = tk.IntVar()\n",
    "\n",
    "error_label = tk.Label(root, text=\"\", fg=\"red\")\n",
    "classification_label = tk.Label(root, text=\"\", fg=\"black\")\n",
    "# regression_label = tk.Label(root, text=\"\", fg=\"black\")\n",
    "\n",
    "# Validation function\n",
    "def validate_and_predict():\n",
    "    try:\n",
    "        budget = int(budget_var.get())\n",
    "        runtime = int(runtime_var.get())\n",
    "        if not (100000 <= budget <= 900000000):\n",
    "            raise ValueError(\"Budget out of range\")\n",
    "        if not (30 <= runtime <= 230):\n",
    "            raise ValueError(\"Runtime out of range\")\n",
    "    except ValueError as e:\n",
    "        error_label.config(text=str(e))\n",
    "        return\n",
    "\n",
    "    error_label.config(text=\"\")  # Clear error\n",
    "\n",
    "    # Convert inputs to features\n",
    "    X = np.array([[\n",
    "        int(budget),\n",
    "        int(runtime),\n",
    "        content_ratings_ids[content_rating_var.get()],\n",
    "        genres_ids[genre_var.get()],\n",
    "        int(actor1_var.get()),\n",
    "        int(actor2_var.get()),\n",
    "        int(actor3_var.get()),\n",
    "        int(director_var.get())\n",
    "    ]])\n",
    "        \n",
    "    \n",
    "    if all(isinstance(val, np.int32) for val in X[0][:8]):\n",
    "        classification_label.config(text='Successful' if clf.predict(X)[0]==1 else 'Failure',fg='green' if clf.predict(X)[0]==1 else 'red')\n",
    "        # regression_label.config(text=str(lm.predict(X)[0]))\n",
    "\n",
    "    # Predict\n",
    "    # success = classifier.predict(X)[0]\n",
    "    # revenue = regressor.predict(X)[0]\n",
    "    \n",
    "    # message = f\"Predicted Revenue: ${int(revenue):,}\\nSuccess: {'Yes' if success == 1 else 'No'}\"\n",
    "    # messagebox.showinfo(\"Prediction Result\", message)\n",
    "\n",
    "# Widgets\n",
    "tk.Label(root, text=\"Budget (100.000 - 900M)\").pack()\n",
    "tk.Entry(root, textvariable=budget_var).pack()\n",
    "tk.Label(root, text=\"Runtime (30 - 230 mins)\").pack()\n",
    "tk.Entry(root, textvariable=runtime_var).pack()\n",
    "\n",
    "tk.Label(root, text=\"Content Rating\").pack()\n",
    "tt = ttk.Combobox(root, textvariable=content_rating_var, values=list(content_ratings))\n",
    "tt.pack()\n",
    "\n",
    "tk.Label(root, text=\"Main Genre\").pack()\n",
    "tt = ttk.Combobox(root, textvariable=genre_var, values=list(genres))\n",
    "tt.pack()\n",
    "\n",
    "for i, var in enumerate([actor1_var, actor2_var, actor3_var], 1):\n",
    "    tk.Label(root, text=f\"Actor {i} Tier (1-3)\").pack()\n",
    "    tt = ttk.Combobox(root, textvariable=var, values=tiers)\n",
    "    tt.pack()\n",
    "\n",
    "tk.Label(root, text=\"Director Tier (1-3)\").pack()\n",
    "tt = ttk.Combobox(root, textvariable=director_var, values=tiers)\n",
    "tt.pack()\n",
    "\n",
    "error_label.pack()\n",
    "tk.Button(root, text=\"OK\", command=validate_and_predict).pack(pady=20)\n",
    "classification_label.pack()\n",
    "# regression_label.pack()\n",
    "\n",
    "root.mainloop()\n"
   ]
  },
  {
   "cell_type": "code",
   "execution_count": null,
   "id": "ce0cce12",
   "metadata": {},
   "outputs": [],
   "source": []
  }
 ],
 "metadata": {
  "kernelspec": {
   "display_name": "Python 3",
   "language": "python",
   "name": "python3"
  },
  "language_info": {
   "codemirror_mode": {
    "name": "ipython",
    "version": 3
   },
   "file_extension": ".py",
   "mimetype": "text/x-python",
   "name": "python",
   "nbconvert_exporter": "python",
   "pygments_lexer": "ipython3",
   "version": "3.11.3"
  }
 },
 "nbformat": 4,
 "nbformat_minor": 5
}
